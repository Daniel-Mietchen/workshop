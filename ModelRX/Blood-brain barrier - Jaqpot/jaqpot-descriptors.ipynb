{
 "cells": [
  {
   "cell_type": "markdown",
   "metadata": {},
   "source": [
    "# Goal of phase 1:\n",
    "Build descriptors for a set of compounds from the Lazar web service (stored in `compounds.csv`)"
   ]
  },
  {
   "cell_type": "markdown",
   "metadata": {},
   "source": [
    "## Import libraries needed"
   ]
  },
  {
   "cell_type": "code",
   "execution_count": 11,
   "metadata": {},
   "outputs": [],
   "source": [
    "from pip._internal import main as pip\n",
    "\n",
    "try:\n",
    "    import requests\n",
    "except ImportError:\n",
    "    pip(['install', 'requests'])\n",
    "    import requests\n",
    "\n",
    "try:\n",
    "    import pandas as pd\n",
    "except ImportError:\n",
    "    pip(['install', 'pandas'])\n",
    "    import pandas as pd\n",
    "       \n",
    "try:\n",
    "    from rdkit import Chem\n",
    "except ImportError:\n",
    "    print(\"Run the following from command line:\\n\\tconda install -c conda-forge rdkit\")\n",
    "    \n",
    "try:\n",
    "    from mordred import Calculator, descriptors\n",
    "except ImportError:\n",
    "    pip(['install', 'mordred'])\n",
    "    from mordred import Calculator, descriptors\n",
    "    \n",
    "try:\n",
    "    import urllib\n",
    "except ImportError:\n",
    "    pip(['install', 'urllib3'])\n",
    "    import urllib\n",
    "\n",
    "from IPython.display import display, SVG, HTML, Image"
   ]
  },
  {
   "cell_type": "markdown",
   "metadata": {},
   "source": [
    "## Communicate with Lazar to obtain the dataset"
   ]
  },
  {
   "cell_type": "code",
   "execution_count": 13,
   "metadata": {},
   "outputs": [
    {
     "name": "stdout",
     "output_type": "stream",
     "text": [
      "LAZAR Status code GET endpoints: 200\n"
     ]
    }
   ],
   "source": [
    "\n",
    "url = 'https://lazar.prod.openrisknet.org/endpoint'\n",
    "headers = {'accept': 'application/json',\n",
    "           'Content-Type': 'application/x-www-form-urlencoded'}\n",
    "\n",
    "r1 = requests.get(url, headers=headers)\n",
    "\n",
    "print(\"LAZAR Status code GET endpoints: {0}\".format(r1.status_code))\n",
    "if r1.status_code == 200:\n",
    "    endpoints = r1.json()"
   ]
  },
  {
   "cell_type": "code",
   "execution_count": 14,
   "metadata": {},
   "outputs": [
    {
     "name": "stdout",
     "output_type": "stream",
     "text": [
      "LAZAR Status code GET model details: 200\n"
     ]
    }
   ],
   "source": [
    "data = []\n",
    "\n",
    "def extractSpecies(speciesList):\n",
    "    for item in speciesList:\n",
    "        for species, url, in item.items():\n",
    "            yield species, url\n",
    "            \n",
    "for endpoint in endpoints:\n",
    "    url = 'https://lazar.prod.openrisknet.org/endpoint/' + endpoint\n",
    "    r2 = requests.get(url, headers=headers);\n",
    "\n",
    "    if r2.status_code == 200:\n",
    "        for species, url in extractSpecies(r2.json()):\n",
    "            data.append([endpoint, species, url])\n",
    "\n",
    "dfLAZAR = pd.DataFrame(data, columns=[\"Endpoint\", \"Species\", \"URL\"])\n",
    "\n",
    "dfLAZAR\n",
    "selector = 0\n",
    "model_url = dfLAZAR['URL'][selector]\n",
    "headers = {'accept': 'application/json',\n",
    "           'Content-Type': 'application/x-www-form-urlencoded'}\n",
    "\n",
    "r1 = requests.get(model_url, headers=headers)\n",
    "\n",
    "print(\"LAZAR Status code GET model details: {0}\".format(r1.status_code))\n",
    "if r1.status_code == 200:\n",
    "    model = r1.json()\n",
    "    \n",
    "headers = {'accept': 'text/csv'}\n",
    "            \n",
    "training_dataset = 'https://lazar.prod.openrisknet.org/dataset/' + model['training_dataset']\n",
    "r3 = requests.get(training_dataset, headers=headers);\n",
    "\n",
    "if r3.status_code == 200:\n",
    "    \n",
    "    csv = r3.text"
   ]
  },
  {
   "cell_type": "markdown",
   "metadata": {},
   "source": [
    "#### Dataset has been retrieved in csv format, transforming from csv into pandas dataframe"
   ]
  },
  {
   "cell_type": "code",
   "execution_count": 15,
   "metadata": {},
   "outputs": [
    {
     "data": {
      "text/html": [
       "<div>\n",
       "<style scoped>\n",
       "    .dataframe tbody tr th:only-of-type {\n",
       "        vertical-align: middle;\n",
       "    }\n",
       "\n",
       "    .dataframe tbody tr th {\n",
       "        vertical-align: top;\n",
       "    }\n",
       "\n",
       "    .dataframe thead th {\n",
       "        text-align: right;\n",
       "    }\n",
       "</style>\n",
       "<table border=\"1\" class=\"dataframe\">\n",
       "  <thead>\n",
       "    <tr style=\"text-align: right;\">\n",
       "      <th></th>\n",
       "      <th>SMILES</th>\n",
       "      <th>Blood-Brain-Barrier Penetration</th>\n",
       "    </tr>\n",
       "  </thead>\n",
       "  <tbody>\n",
       "    <tr>\n",
       "      <td>0</td>\n",
       "      <td>OC[C@](c1onc(n1)c1ncn2-c3cccc(c3C(=O)N(Cc12)C)Cl)(O)C</td>\n",
       "      <td>non-penetrating</td>\n",
       "    </tr>\n",
       "    <tr>\n",
       "      <td>1</td>\n",
       "      <td>NCCc1nc2n(c1)cccc2</td>\n",
       "      <td>non-penetrating</td>\n",
       "    </tr>\n",
       "    <tr>\n",
       "      <td>2</td>\n",
       "      <td>NCCc1nc2n(c1)cccc2</td>\n",
       "      <td>non-penetrating</td>\n",
       "    </tr>\n",
       "    <tr>\n",
       "      <td>3</td>\n",
       "      <td>CCCN(CCC)CCc1ccc(c2c1CC(=C)N2)O</td>\n",
       "      <td>penetrating</td>\n",
       "    </tr>\n",
       "    <tr>\n",
       "      <td>4</td>\n",
       "      <td>Fc1ccc2c(c1)onc2C1CCN(CC1)CCc1c(C)nc2n(c1=O)CCC[C@H]2O</td>\n",
       "      <td>penetrating</td>\n",
       "    </tr>\n",
       "    <tr>\n",
       "      <td>...</td>\n",
       "      <td>...</td>\n",
       "      <td>...</td>\n",
       "    </tr>\n",
       "    <tr>\n",
       "      <td>410</td>\n",
       "      <td>CSCc1cnc(c(c1CNCC)O)C</td>\n",
       "      <td>penetrating</td>\n",
       "    </tr>\n",
       "    <tr>\n",
       "      <td>411</td>\n",
       "      <td>O=C(C1=C(O)c2sccc2S(=O)(=O)N1C)Nc1ccccn1</td>\n",
       "      <td>non-penetrating</td>\n",
       "    </tr>\n",
       "    <tr>\n",
       "      <td>412</td>\n",
       "      <td>O[C@@H](c1ccc(cc1)C(C)(C)C)CCCN1CCC(CC1)C(c1ccccc1)(c1ccccc1)O</td>\n",
       "      <td>non-penetrating</td>\n",
       "    </tr>\n",
       "    <tr>\n",
       "      <td>413</td>\n",
       "      <td>O=C1CC[C@]2(C(=C1)CC[C@@H]1[C@@H]2CC[C@]2([C@H]1CC[C@@H]2O)C)C</td>\n",
       "      <td>penetrating</td>\n",
       "    </tr>\n",
       "    <tr>\n",
       "      <td>414</td>\n",
       "      <td>O=C(N([C@H]1CCCC[C@H]1N1CCCC1)C)Cc1ccc(c(c1)Cl)Cl</td>\n",
       "      <td>penetrating</td>\n",
       "    </tr>\n",
       "  </tbody>\n",
       "</table>\n",
       "<p>415 rows × 2 columns</p>\n",
       "</div>"
      ],
      "text/plain": [
       "                                                             SMILES  \\\n",
       "0    OC[C@](c1onc(n1)c1ncn2-c3cccc(c3C(=O)N(Cc12)C)Cl)(O)C            \n",
       "1    NCCc1nc2n(c1)cccc2                                               \n",
       "2    NCCc1nc2n(c1)cccc2                                               \n",
       "3    CCCN(CCC)CCc1ccc(c2c1CC(=C)N2)O                                  \n",
       "4    Fc1ccc2c(c1)onc2C1CCN(CC1)CCc1c(C)nc2n(c1=O)CCC[C@H]2O           \n",
       "..                                                      ...           \n",
       "410  CSCc1cnc(c(c1CNCC)O)C                                            \n",
       "411  O=C(C1=C(O)c2sccc2S(=O)(=O)N1C)Nc1ccccn1                         \n",
       "412  O[C@@H](c1ccc(cc1)C(C)(C)C)CCCN1CCC(CC1)C(c1ccccc1)(c1ccccc1)O   \n",
       "413  O=C1CC[C@]2(C(=C1)CC[C@@H]1[C@@H]2CC[C@]2([C@H]1CC[C@@H]2O)C)C   \n",
       "414  O=C(N([C@H]1CCCC[C@H]1N1CCCC1)C)Cc1ccc(c(c1)Cl)Cl                \n",
       "\n",
       "    Blood-Brain-Barrier Penetration  \n",
       "0    non-penetrating                 \n",
       "1    non-penetrating                 \n",
       "2    non-penetrating                 \n",
       "3    penetrating                     \n",
       "4    penetrating                     \n",
       "..           ...                     \n",
       "410  penetrating                     \n",
       "411  non-penetrating                 \n",
       "412  non-penetrating                 \n",
       "413  penetrating                     \n",
       "414  penetrating                     \n",
       "\n",
       "[415 rows x 2 columns]"
      ]
     },
     "execution_count": 15,
     "metadata": {},
     "output_type": "execute_result"
    }
   ],
   "source": [
    "\n",
    "from io import StringIO\n",
    "pd.set_option('display.max_colwidth', -1)\n",
    "data = StringIO(csv)\n",
    "df = pd.read_csv(data,index_col=False)\n",
    "df"
   ]
  },
  {
   "cell_type": "markdown",
   "metadata": {},
   "source": [
    "##### Alternatively, one can load the set of compounds from csv (removing all # is needed to get the next cell to work"
   ]
  },
  {
   "cell_type": "code",
   "execution_count": 29,
   "metadata": {},
   "outputs": [],
   "source": [
    "#df = pd.read_csv('compounds.csv')\n",
    "#df"
   ]
  },
  {
   "cell_type": "markdown",
   "metadata": {},
   "source": [
    "## Convert Smiles to Mol representation"
   ]
  },
  {
   "cell_type": "code",
   "execution_count": 30,
   "metadata": {},
   "outputs": [],
   "source": [
    "mols = []\n",
    "\n",
    "for smile in df['SMILES']:\n",
    "    mols.append(Chem.MolFromSmiles(smile))\n",
    "\n",
    "df['Mol'] = mols    \n",
    "\n",
    "# remove compounds with non-processible Smiles\n",
    "df = df.dropna()"
   ]
  },
  {
   "cell_type": "markdown",
   "metadata": {},
   "source": [
    "## Calculate Mordred descriptors"
   ]
  },
  {
   "cell_type": "code",
   "execution_count": 31,
   "metadata": {},
   "outputs": [
    {
     "name": "stdout",
     "output_type": "stream",
     "text": [
      "/Users/philip/anaconda3/envs/OpenRiskNet/lib/python3.7/site-packages/numpy/core/fromnumeric.py:86: RuntimeWarning: overflow encountered in reduce\n",
      "  return ufunc.reduce(obj, axis, dtype, out, **passkwargs)\n",
      "/Users/philip/anaconda3/envs/OpenRiskNet/lib/python3.7/site-packages/numpy/core/fromnumeric.py:86: RuntimeWarning: overflow encountered in reduce\n",
      "  return ufunc.reduce(obj, axis, dtype, out, **passkwargs)\n",
      "/Users/philip/anaconda3/envs/OpenRiskNet/lib/python3.7/site-packages/numpy/core/fromnumeric.py:86: RuntimeWarning: overflow encountered in reduce\n",
      "  return ufunc.reduce(obj, axis, dtype, out, **passkwargs)\n",
      "/Users/philip/anaconda3/envs/OpenRiskNet/lib/python3.7/site-packages/numpy/core/fromnumeric.py:86: RuntimeWarning: overflow encountered in reduce\n",
      "  return ufunc.reduce(obj, axis, dtype, out, **passkwargs)\n"
     ]
    },
    {
     "data": {
      "text/html": [
       "<div>\n",
       "<style scoped>\n",
       "    .dataframe tbody tr th:only-of-type {\n",
       "        vertical-align: middle;\n",
       "    }\n",
       "\n",
       "    .dataframe tbody tr th {\n",
       "        vertical-align: top;\n",
       "    }\n",
       "\n",
       "    .dataframe thead th {\n",
       "        text-align: right;\n",
       "    }\n",
       "</style>\n",
       "<table border=\"1\" class=\"dataframe\">\n",
       "  <thead>\n",
       "    <tr style=\"text-align: right;\">\n",
       "      <th></th>\n",
       "      <th>ABC</th>\n",
       "      <th>ABCGG</th>\n",
       "      <th>nAcid</th>\n",
       "      <th>nBase</th>\n",
       "      <th>SpAbs_A</th>\n",
       "      <th>SpMax_A</th>\n",
       "      <th>SpDiam_A</th>\n",
       "      <th>SpAD_A</th>\n",
       "      <th>SpMAD_A</th>\n",
       "      <th>LogEE_A</th>\n",
       "      <th>...</th>\n",
       "      <th>SRW10</th>\n",
       "      <th>TSRW10</th>\n",
       "      <th>MW</th>\n",
       "      <th>AMW</th>\n",
       "      <th>WPath</th>\n",
       "      <th>WPol</th>\n",
       "      <th>Zagreb1</th>\n",
       "      <th>Zagreb2</th>\n",
       "      <th>mZagreb1</th>\n",
       "      <th>mZagreb2</th>\n",
       "    </tr>\n",
       "  </thead>\n",
       "  <tbody>\n",
       "    <tr>\n",
       "      <td>0</td>\n",
       "      <td>21.474080</td>\n",
       "      <td>17.978542</td>\n",
       "      <td>0</td>\n",
       "      <td>0</td>\n",
       "      <td>34.5534</td>\n",
       "      <td>2.54198</td>\n",
       "      <td>4.93359</td>\n",
       "      <td>34.5534</td>\n",
       "      <td>1.27976</td>\n",
       "      <td>4.25118</td>\n",
       "      <td>...</td>\n",
       "      <td>10.428837</td>\n",
       "      <td>78.871649</td>\n",
       "      <td>389.089082</td>\n",
       "      <td>9.048583</td>\n",
       "      <td>1727</td>\n",
       "      <td>52</td>\n",
       "      <td>152.0</td>\n",
       "      <td>187.0</td>\n",
       "      <td>9.67361</td>\n",
       "      <td>5.763889</td>\n",
       "    </tr>\n",
       "    <tr>\n",
       "      <td>1</td>\n",
       "      <td>9.151948</td>\n",
       "      <td>8.206878</td>\n",
       "      <td>0</td>\n",
       "      <td>1</td>\n",
       "      <td>15.659</td>\n",
       "      <td>2.37835</td>\n",
       "      <td>4.57188</td>\n",
       "      <td>15.659</td>\n",
       "      <td>1.30491</td>\n",
       "      <td>3.42249</td>\n",
       "      <td>...</td>\n",
       "      <td>9.190852</td>\n",
       "      <td>56.587917</td>\n",
       "      <td>161.095297</td>\n",
       "      <td>7.004143</td>\n",
       "      <td>197</td>\n",
       "      <td>14</td>\n",
       "      <td>60.0</td>\n",
       "      <td>69.0</td>\n",
       "      <td>3.33333</td>\n",
       "      <td>2.777778</td>\n",
       "    </tr>\n",
       "    <tr>\n",
       "      <td>2</td>\n",
       "      <td>9.151948</td>\n",
       "      <td>8.206878</td>\n",
       "      <td>0</td>\n",
       "      <td>1</td>\n",
       "      <td>15.659</td>\n",
       "      <td>2.37835</td>\n",
       "      <td>4.57188</td>\n",
       "      <td>15.659</td>\n",
       "      <td>1.30491</td>\n",
       "      <td>3.42249</td>\n",
       "      <td>...</td>\n",
       "      <td>9.190852</td>\n",
       "      <td>56.587917</td>\n",
       "      <td>161.095297</td>\n",
       "      <td>7.004143</td>\n",
       "      <td>197</td>\n",
       "      <td>14</td>\n",
       "      <td>60.0</td>\n",
       "      <td>69.0</td>\n",
       "      <td>3.33333</td>\n",
       "      <td>2.777778</td>\n",
       "    </tr>\n",
       "    <tr>\n",
       "      <td>3</td>\n",
       "      <td>14.946702</td>\n",
       "      <td>13.140670</td>\n",
       "      <td>0</td>\n",
       "      <td>1</td>\n",
       "      <td>25.0359</td>\n",
       "      <td>2.45245</td>\n",
       "      <td>4.79766</td>\n",
       "      <td>25.0359</td>\n",
       "      <td>1.2518</td>\n",
       "      <td>3.90305</td>\n",
       "      <td>...</td>\n",
       "      <td>9.742908</td>\n",
       "      <td>67.137495</td>\n",
       "      <td>274.204513</td>\n",
       "      <td>5.960968</td>\n",
       "      <td>862</td>\n",
       "      <td>28</td>\n",
       "      <td>98.0</td>\n",
       "      <td>113.0</td>\n",
       "      <td>7.16667</td>\n",
       "      <td>4.666667</td>\n",
       "    </tr>\n",
       "    <tr>\n",
       "      <td>4</td>\n",
       "      <td>24.862776</td>\n",
       "      <td>17.808737</td>\n",
       "      <td>0</td>\n",
       "      <td>1</td>\n",
       "      <td>40.9336</td>\n",
       "      <td>2.46674</td>\n",
       "      <td>4.9288</td>\n",
       "      <td>40.9336</td>\n",
       "      <td>1.32044</td>\n",
       "      <td>4.38836</td>\n",
       "      <td>...</td>\n",
       "      <td>10.513824</td>\n",
       "      <td>81.350168</td>\n",
       "      <td>426.206719</td>\n",
       "      <td>7.348392</td>\n",
       "      <td>3047</td>\n",
       "      <td>54</td>\n",
       "      <td>172.0</td>\n",
       "      <td>208.0</td>\n",
       "      <td>9.08333</td>\n",
       "      <td>6.638889</td>\n",
       "    </tr>\n",
       "  </tbody>\n",
       "</table>\n",
       "<p>5 rows × 1826 columns</p>\n",
       "</div>"
      ],
      "text/plain": [
       "         ABC      ABCGG  nAcid  nBase  SpAbs_A  SpMax_A SpDiam_A   SpAD_A  \\\n",
       "0  21.474080  17.978542  0      0      34.5534  2.54198  4.93359  34.5534   \n",
       "1  9.151948   8.206878   0      1      15.659   2.37835  4.57188  15.659    \n",
       "2  9.151948   8.206878   0      1      15.659   2.37835  4.57188  15.659    \n",
       "3  14.946702  13.140670  0      1      25.0359  2.45245  4.79766  25.0359   \n",
       "4  24.862776  17.808737  0      1      40.9336  2.46674  4.9288   40.9336   \n",
       "\n",
       "   SpMAD_A  LogEE_A  ...      SRW10     TSRW10          MW       AMW WPath  \\\n",
       "0  1.27976  4.25118  ...  10.428837  78.871649  389.089082  9.048583  1727   \n",
       "1  1.30491  3.42249  ...  9.190852   56.587917  161.095297  7.004143  197    \n",
       "2  1.30491  3.42249  ...  9.190852   56.587917  161.095297  7.004143  197    \n",
       "3  1.2518   3.90305  ...  9.742908   67.137495  274.204513  5.960968  862    \n",
       "4  1.32044  4.38836  ...  10.513824  81.350168  426.206719  7.348392  3047   \n",
       "\n",
       "  WPol  Zagreb1  Zagreb2  mZagreb1  mZagreb2  \n",
       "0  52   152.0    187.0    9.67361   5.763889  \n",
       "1  14   60.0     69.0     3.33333   2.777778  \n",
       "2  14   60.0     69.0     3.33333   2.777778  \n",
       "3  28   98.0     113.0    7.16667   4.666667  \n",
       "4  54   172.0    208.0    9.08333   6.638889  \n",
       "\n",
       "[5 rows x 1826 columns]"
      ]
     },
     "execution_count": 31,
     "metadata": {},
     "output_type": "execute_result"
    }
   ],
   "source": [
    "calc = Calculator(descriptors)\n",
    "\n",
    "dfMord = calc.pandas(df['Mol'])\n",
    "\n",
    "dfMord.head()"
   ]
  },
  {
   "cell_type": "markdown",
   "metadata": {},
   "source": [
    "### Curate Mordred descriptors:\n",
    "- convert from int64, float64 to int32, float32\n",
    "- drop columns that are of object type, because they contain text"
   ]
  },
  {
   "cell_type": "code",
   "execution_count": 32,
   "metadata": {},
   "outputs": [
    {
     "data": {
      "text/plain": [
       "ABC         float32\n",
       "ABCGG       float32\n",
       "nAcid       int32  \n",
       "nBase       int32  \n",
       "SpAbs_A     object \n",
       "             ...   \n",
       "WPol        int32  \n",
       "Zagreb1     float32\n",
       "Zagreb2     float32\n",
       "mZagreb1    object \n",
       "mZagreb2    float32\n",
       "Length: 1826, dtype: object"
      ]
     },
     "execution_count": 32,
     "metadata": {},
     "output_type": "execute_result"
    }
   ],
   "source": [
    "# convert from 64 to 32 types\n",
    "for col in dfMord.columns:\n",
    "    if dfMord[col].dtype == 'float64':\n",
    "        dfMord[col] = dfMord[col].astype('float32')\n",
    "    elif dfMord[col].dtype == 'int64':\n",
    "        dfMord[col] = dfMord[col].astype('int32')\n",
    "        \n",
    "dfMord.dtypes"
   ]
  },
  {
   "cell_type": "code",
   "execution_count": 33,
   "metadata": {},
   "outputs": [
    {
     "name": "stdout",
     "output_type": "stream",
     "text": [
      "Dataframe shape before dropping: (388, 1826)\n",
      "Dataframe shape after dropping: (388, 888)\n"
     ]
    }
   ],
   "source": [
    "# drop all object columns\n",
    "\n",
    "print('Dataframe shape before dropping:', dfMord.shape)\n",
    "\n",
    "# list to collect columns to be dropped\n",
    "toDrop = []\n",
    "\n",
    "for col in dfMord.columns:\n",
    "    if dfMord[col].dtype == 'object':\n",
    "        toDrop.append(col)\n",
    "\n",
    "dfMord = dfMord.drop(toDrop, axis=1)\n",
    "\n",
    "print('Dataframe shape after dropping:', dfMord.shape)"
   ]
  },
  {
   "cell_type": "markdown",
   "metadata": {},
   "source": [
    "## Join the compounds with descriptors"
   ]
  },
  {
   "cell_type": "code",
   "execution_count": 34,
   "metadata": {},
   "outputs": [],
   "source": [
    "df = pd.concat([df, dfMord], axis=1)\n",
    "df = df.rename(columns = {'Blood-Brain-Barrier Penetration': 'True'})\n",
    "df = df.drop('Mol', axis=1)\n",
    "\n",
    "df.to_csv('compounds_descriptors.csv', index=False)"
   ]
  }
 ],
 "metadata": {
  "kernelspec": {
   "display_name": "Python 3",
   "language": "python",
   "name": "python3"
  },
  "language_info": {
   "codemirror_mode": {
    "name": "ipython",
    "version": 3
   },
   "file_extension": ".py",
   "mimetype": "text/x-python",
   "name": "python",
   "nbconvert_exporter": "python",
   "pygments_lexer": "ipython3",
   "version": "3.7.4"
  }
 },
 "nbformat": 4,
 "nbformat_minor": 4
}
